{
 "cells": [
  {
   "cell_type": "code",
   "execution_count": null,
   "id": "f940e9ad",
   "metadata": {},
   "outputs": [],
   "source": [
    "import cv2\n",
    "import numpy as np\n",
    "import matplotlib.pyplot as plt\n",
    "import seaborn as sns"
   ]
  },
  {
   "cell_type": "code",
   "execution_count": null,
   "id": "5ce7151e",
   "metadata": {},
   "outputs": [],
   "source": [
    "x = np.array([88,55,66,63,76,86,59,89,78,78,79,90,79,90,86,82,83,76,74,65,63,69,68])"
   ]
  },
  {
   "cell_type": "code",
   "execution_count": null,
   "id": "d8d31390",
   "metadata": {},
   "outputs": [],
   "source": [
    "plt.xlim(0,100)\n",
    "plt.xticks(range(0,101,10))\n",
    "plt.xlabel('range of marks')\n",
    "plt.ylabel('Frequency')\n",
    "plt.hist(x,bins=range(0,101,10));"
   ]
  },
  {
   "cell_type": "code",
   "execution_count": null,
   "id": "1e4fb947",
   "metadata": {},
   "outputs": [],
   "source": [
    "img = cv2.imread('lenna.png')"
   ]
  },
  {
   "cell_type": "code",
   "execution_count": null,
   "id": "3c049fb3",
   "metadata": {},
   "outputs": [],
   "source": [
    "img.shape"
   ]
  },
  {
   "cell_type": "code",
   "execution_count": null,
   "id": "bb115d79",
   "metadata": {},
   "outputs": [],
   "source": [
    "plt.figure()\n",
    "plt.title('Image histogram')\n",
    "plt.xlim(0,256)\n",
    "plt.xlabel('pixel intensity')\n",
    "plt.ylabel('no of pixels')\n",
    "plt.bar(list(range(0,256)), hist.flatten())\n",
    "plt.xlim([0,256])\n",
    "plt.show()"
   ]
  },
  {
   "cell_type": "code",
   "execution_count": null,
   "id": "c153012c",
   "metadata": {},
   "outputs": [],
   "source": [
    "plt.hist(gray.flatten(), bins = range(0,256));"
   ]
  },
  {
   "cell_type": "code",
   "execution_count": null,
   "id": "105053f3",
   "metadata": {},
   "outputs": [],
   "source": []
  },
  {
   "cell_type": "code",
   "execution_count": null,
   "id": "95c8d767",
   "metadata": {},
   "outputs": [],
   "source": []
  },
  {
   "cell_type": "code",
   "execution_count": null,
   "id": "69009401",
   "metadata": {},
   "outputs": [],
   "source": []
  },
  {
   "cell_type": "code",
   "execution_count": null,
   "id": "aea288d7",
   "metadata": {},
   "outputs": [],
   "source": []
  },
  {
   "cell_type": "code",
   "execution_count": null,
   "id": "fe69d132",
   "metadata": {},
   "outputs": [],
   "source": []
  },
  {
   "cell_type": "code",
   "execution_count": null,
   "id": "6825a362",
   "metadata": {},
   "outputs": [],
   "source": []
  }
 ],
 "metadata": {
  "kernelspec": {
   "display_name": "Python 3 (ipykernel)",
   "language": "python",
   "name": "python3"
  },
  "language_info": {
   "codemirror_mode": {
    "name": "ipython",
    "version": 3
   },
   "file_extension": ".py",
   "mimetype": "text/x-python",
   "name": "python",
   "nbconvert_exporter": "python",
   "pygments_lexer": "ipython3",
   "version": "3.11.5"
  }
 },
 "nbformat": 4,
 "nbformat_minor": 5
}
